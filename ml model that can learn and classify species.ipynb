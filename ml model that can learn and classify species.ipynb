{
 "cells": [
  {
   "cell_type": "code",
   "execution_count": 1,
   "id": "18a22b51",
   "metadata": {},
   "outputs": [
    {
     "name": "stderr",
     "output_type": "stream",
     "text": [
      "C:\\Users\\Manas\\anaconda3\\Lib\\site-packages\\pandas\\core\\arrays\\masked.py:60: UserWarning: Pandas requires version '1.3.6' or newer of 'bottleneck' (version '1.3.5' currently installed).\n",
      "  from pandas.core import (\n"
     ]
    }
   ],
   "source": [
    "import numpy as np\n",
    "import pandas as pd\n",
    "from sklearn import datasets\n",
    "from sklearn.model_selection import train_test_split\n",
    "from sklearn.preprocessing import StandardScaler\n",
    "from sklearn.neighbors import KNeighborsClassifier\n",
    "from sklearn.metrics import accuracy_score, classification_report, confusion_matrix\n",
    "import matplotlib.pyplot as plt\n",
    "import seaborn as sns"
   ]
  },
  {
   "cell_type": "code",
   "execution_count": 2,
   "id": "b60dd32b",
   "metadata": {},
   "outputs": [],
   "source": [
    "iris = datasets.load_iris()\n",
    "X = iris.data\n",
    "y = iris.target\n"
   ]
  },
  {
   "cell_type": "code",
   "execution_count": 3,
   "id": "c08562d5",
   "metadata": {},
   "outputs": [],
   "source": [
    "X_train, X_test, y_train, y_test = train_test_split(X, y, test_size=0.2, random_state=42)\n"
   ]
  },
  {
   "cell_type": "code",
   "execution_count": 11,
   "id": "cd0c0a2f",
   "metadata": {},
   "outputs": [
    {
     "name": "stdout",
     "output_type": "stream",
     "text": [
      "[[-1.47393679  1.20365799 -1.56253475 -1.31260282]\n",
      " [-0.13307079  2.99237573 -1.27600637 -1.04563275]\n",
      " [ 1.08589829  0.08570939  0.38585821  0.28921757]\n",
      " [-1.23014297  0.75647855 -1.2187007  -1.31260282]\n",
      " [-1.7177306   0.30929911 -1.39061772 -1.31260282]\n",
      " [ 0.59831066 -1.25582892  0.72969227  0.95664273]\n",
      " [ 0.72020757  0.30929911  0.44316389  0.4227026 ]\n",
      " [-0.74255534  0.98006827 -1.27600637 -1.31260282]\n",
      " [-0.98634915  1.20365799 -1.33331205 -1.31260282]\n",
      " [-0.74255534  2.32160658 -1.27600637 -1.44608785]\n",
      " [-0.01117388 -0.80864948  0.78699794  0.95664273]\n",
      " [ 0.23261993  0.75647855  0.44316389  0.55618763]\n",
      " [ 1.08589829  0.08570939  0.55777524  0.4227026 ]\n",
      " [-0.49876152  1.87442714 -1.39061772 -1.04563275]\n",
      " [-0.49876152  1.4272477  -1.27600637 -1.31260282]\n",
      " [-0.37686461 -1.47941864 -0.01528151 -0.24472256]\n",
      " [ 0.59831066 -0.58505976  0.78699794  0.4227026 ]\n",
      " [ 0.72020757  0.08570939  1.01622064  0.8231577 ]\n",
      " [ 0.96400139 -0.13788033  0.38585821  0.28921757]\n",
      " [ 1.69538284  1.20365799  1.3600547   1.75755292]\n",
      " [-0.13307079 -0.36147005  0.27124686  0.15573254]\n",
      " [ 2.18297047 -0.13788033  1.64658307  1.22361279]\n",
      " [-0.2549677  -0.13788033  0.44316389  0.4227026 ]\n",
      " [-0.86445224  0.98006827 -1.33331205 -1.31260282]\n",
      " [ 2.30486738 -0.58505976  1.70388875  1.09012776]\n",
      " [-0.01117388 -0.80864948  0.21394119 -0.24472256]\n",
      " [-0.74255534  0.75647855 -1.33331205 -1.31260282]\n",
      " [-0.98634915  0.98006827 -1.39061772 -1.17911778]\n",
      " [-0.86445224  1.65083742 -1.04678367 -1.04563275]\n",
      " [-0.98634915 -2.37377751 -0.12989286 -0.24472256]\n",
      " [ 0.59831066 -0.80864948  0.67238659  0.8231577 ]\n",
      " [-1.23014297  0.75647855 -1.04678367 -1.31260282]\n",
      " [-0.98634915 -0.13788033 -1.2187007  -1.31260282]\n",
      " [-0.86445224  0.53288883 -1.16139502 -0.91214772]\n",
      " [-0.2549677  -0.80864948  0.27124686  0.15573254]\n",
      " [-0.86445224  0.75647855 -1.27600637 -1.31260282]\n",
      " [-0.13307079 -0.13788033  0.27124686  0.02224751]\n",
      " [ 2.30486738  1.65083742  1.70388875  1.35709783]\n",
      " [-1.47393679  0.30929911 -1.33331205 -1.31260282]\n",
      " [ 0.47641375 -0.36147005  0.32855254  0.15573254]\n",
      " [-0.13307079 -1.25582892  0.72969227  1.09012776]\n",
      " [-0.37686461  2.5451963  -1.33331205 -1.31260282]\n",
      " [ 0.23261993 -0.13788033  0.61508092  0.8231577 ]\n",
      " [-0.01117388 -0.80864948  0.78699794  0.95664273]\n",
      " [ 0.23261993 -1.92659808  0.15663551 -0.24472256]\n",
      " [-0.49876152 -0.13788033  0.44316389  0.4227026 ]\n",
      " [ 0.47641375  0.75647855  0.95891497  1.49058286]\n",
      " [-0.37686461 -1.70300836  0.15663551  0.15573254]\n",
      " [-0.49876152  1.87442714 -1.16139502 -1.04563275]\n",
      " [-0.98634915 -1.70300836 -0.24450422 -0.24472256]\n",
      " [ 0.72020757 -0.80864948  0.90160929  0.95664273]\n",
      " [-0.98634915  0.53288883 -1.33331205 -1.31260282]\n",
      " [-0.98634915  0.30929911 -1.4479234  -1.31260282]\n",
      " [-0.37686461 -1.47941864  0.04202416 -0.11123753]\n",
      " [ 1.08589829 -0.13788033  0.72969227  0.68967267]\n",
      " [-1.10824606  0.08570939 -1.27600637 -1.31260282]\n",
      " [-0.01117388 -0.58505976  0.78699794  1.62406789]\n",
      " [-0.98634915  0.75647855 -1.27600637 -1.31260282]\n",
      " [-0.98634915  0.98006827 -1.2187007  -0.77866269]\n",
      " [ 0.11072303  0.30929911  0.61508092  0.8231577 ]\n",
      " [-0.86445224 -1.25582892 -0.41642124 -0.11123753]\n",
      " [ 1.32969211  0.30929911  1.130832    1.49058286]\n",
      " [ 0.23261993 -0.80864948  0.78699794  0.55618763]\n",
      " [ 0.35451684 -1.0322392   1.07352632  0.28921757]\n",
      " [ 2.30486738 -0.13788033  1.3600547   1.49058286]\n",
      " [-0.37686461 -1.25582892  0.15663551  0.15573254]\n",
      " [-1.7177306  -0.36147005 -1.33331205 -1.31260282]\n",
      " [-1.83962751 -0.13788033 -1.50522907 -1.44608785]\n",
      " [ 0.23261993 -1.92659808  0.72969227  0.4227026 ]\n",
      " [ 1.69538284  0.30929911  1.30274902  0.8231577 ]\n",
      " [-1.47393679  0.08570939 -1.27600637 -1.31260282]\n",
      " [-0.86445224  0.98006827 -1.33331205 -1.17911778]\n",
      " [-1.7177306  -0.13788033 -1.39061772 -1.31260282]\n",
      " [ 0.59831066 -1.25582892  0.67238659  0.4227026 ]\n",
      " [ 0.59831066  0.75647855  1.07352632  1.62406789]\n",
      " [-1.47393679  0.75647855 -1.33331205 -1.17911778]\n",
      " [ 1.2077952  -0.13788033  1.01622064  1.22361279]\n",
      " [ 0.59831066  0.53288883  1.30274902  1.75755292]\n",
      " [-1.35203988  0.30929911 -1.39061772 -1.31260282]\n",
      " [ 0.35451684 -0.36147005  0.55777524  0.28921757]\n",
      " [ 0.84210448 -0.58505976  0.50046957  0.4227026 ]\n",
      " [ 0.47641375 -0.58505976  0.61508092  0.8231577 ]\n",
      " [ 1.45158902  0.30929911  0.55777524  0.28921757]\n",
      " [ 0.72020757  0.30929911  0.90160929  1.49058286]\n",
      " [-0.86445224  1.65083742 -1.2187007  -1.31260282]\n",
      " [ 1.32969211  0.08570939  0.95891497  1.22361279]\n",
      " [ 0.11072303 -0.13788033  0.27124686  0.4227026 ]\n",
      " [ 0.84210448 -0.13788033  0.84430362  1.09012776]\n",
      " [-0.13307079 -1.0322392  -0.12989286 -0.24472256]\n",
      " [-0.74255534 -0.80864948  0.09932984  0.28921757]\n",
      " [ 0.35451684 -0.13788033  0.50046957  0.28921757]\n",
      " [-1.5958337  -1.70300836 -1.39061772 -1.17911778]\n",
      " [ 0.96400139 -0.36147005  0.50046957  0.15573254]\n",
      " [-0.37686461 -1.0322392   0.38585821  0.02224751]\n",
      " [-0.62065843  1.4272477  -1.27600637 -1.31260282]\n",
      " [-0.2549677  -0.13788033  0.21394119  0.15573254]\n",
      " [ 1.81727975 -0.36147005  1.47466605  0.8231577 ]\n",
      " [ 1.08589829  0.53288883  1.130832    1.22361279]\n",
      " [-0.86445224  1.4272477  -1.27600637 -1.04563275]\n",
      " [-1.10824606 -1.47941864 -0.24450422 -0.24472256]\n",
      " [ 1.08589829  0.53288883  1.130832    1.75755292]\n",
      " [ 1.69538284 -0.13788033  1.18813767  0.55618763]\n",
      " [-1.10824606  1.20365799 -1.33331205 -1.44608785]\n",
      " [ 1.08589829  0.08570939  1.07352632  1.62406789]\n",
      " [-1.10824606 -0.13788033 -1.33331205 -1.31260282]\n",
      " [ 1.32969211  0.08570939  0.67238659  0.4227026 ]\n",
      " [ 1.93917666 -0.58505976  1.3600547   0.95664273]\n",
      " [ 0.59831066 -0.36147005  1.07352632  0.8231577 ]\n",
      " [-0.13307079 -0.58505976  0.21394119  0.15573254]\n",
      " [ 0.84210448 -0.13788033  1.01622064  0.8231577 ]\n",
      " [ 0.59831066 -1.70300836  0.38585821  0.15573254]\n",
      " [ 0.72020757 -0.36147005  0.32855254  0.15573254]\n",
      " [-0.2549677  -0.58505976  0.67238659  1.09012776]\n",
      " [ 0.11072303 -0.13788033  0.78699794  0.8231577 ]\n",
      " [-0.49876152  0.75647855 -1.16139502 -1.31260282]\n",
      " [ 0.35451684 -0.58505976  0.15663551  0.15573254]\n",
      " [-1.10824606 -1.25582892  0.44316389  0.68967267]\n",
      " [-0.01117388  2.09801686 -1.4479234  -1.31260282]\n",
      " [-0.01117388 -1.0322392   0.15663551  0.02224751]\n",
      " [ 1.57348593 -0.13788033  1.24544335  1.22361279]]\n"
     ]
    }
   ],
   "source": [
    "scaler = StandardScaler()\n",
    "X_train = scaler.fit_transform(X_train)\n",
    "X_test = scaler.transform(X_test)\n",
    "print(X_train)\n",
    "\n"
   ]
  },
  {
   "cell_type": "code",
   "execution_count": 12,
   "id": "b75b86d7",
   "metadata": {},
   "outputs": [
    {
     "data": {
      "text/html": [
       "<style>#sk-container-id-2 {color: black;}#sk-container-id-2 pre{padding: 0;}#sk-container-id-2 div.sk-toggleable {background-color: white;}#sk-container-id-2 label.sk-toggleable__label {cursor: pointer;display: block;width: 100%;margin-bottom: 0;padding: 0.3em;box-sizing: border-box;text-align: center;}#sk-container-id-2 label.sk-toggleable__label-arrow:before {content: \"▸\";float: left;margin-right: 0.25em;color: #696969;}#sk-container-id-2 label.sk-toggleable__label-arrow:hover:before {color: black;}#sk-container-id-2 div.sk-estimator:hover label.sk-toggleable__label-arrow:before {color: black;}#sk-container-id-2 div.sk-toggleable__content {max-height: 0;max-width: 0;overflow: hidden;text-align: left;background-color: #f0f8ff;}#sk-container-id-2 div.sk-toggleable__content pre {margin: 0.2em;color: black;border-radius: 0.25em;background-color: #f0f8ff;}#sk-container-id-2 input.sk-toggleable__control:checked~div.sk-toggleable__content {max-height: 200px;max-width: 100%;overflow: auto;}#sk-container-id-2 input.sk-toggleable__control:checked~label.sk-toggleable__label-arrow:before {content: \"▾\";}#sk-container-id-2 div.sk-estimator input.sk-toggleable__control:checked~label.sk-toggleable__label {background-color: #d4ebff;}#sk-container-id-2 div.sk-label input.sk-toggleable__control:checked~label.sk-toggleable__label {background-color: #d4ebff;}#sk-container-id-2 input.sk-hidden--visually {border: 0;clip: rect(1px 1px 1px 1px);clip: rect(1px, 1px, 1px, 1px);height: 1px;margin: -1px;overflow: hidden;padding: 0;position: absolute;width: 1px;}#sk-container-id-2 div.sk-estimator {font-family: monospace;background-color: #f0f8ff;border: 1px dotted black;border-radius: 0.25em;box-sizing: border-box;margin-bottom: 0.5em;}#sk-container-id-2 div.sk-estimator:hover {background-color: #d4ebff;}#sk-container-id-2 div.sk-parallel-item::after {content: \"\";width: 100%;border-bottom: 1px solid gray;flex-grow: 1;}#sk-container-id-2 div.sk-label:hover label.sk-toggleable__label {background-color: #d4ebff;}#sk-container-id-2 div.sk-serial::before {content: \"\";position: absolute;border-left: 1px solid gray;box-sizing: border-box;top: 0;bottom: 0;left: 50%;z-index: 0;}#sk-container-id-2 div.sk-serial {display: flex;flex-direction: column;align-items: center;background-color: white;padding-right: 0.2em;padding-left: 0.2em;position: relative;}#sk-container-id-2 div.sk-item {position: relative;z-index: 1;}#sk-container-id-2 div.sk-parallel {display: flex;align-items: stretch;justify-content: center;background-color: white;position: relative;}#sk-container-id-2 div.sk-item::before, #sk-container-id-2 div.sk-parallel-item::before {content: \"\";position: absolute;border-left: 1px solid gray;box-sizing: border-box;top: 0;bottom: 0;left: 50%;z-index: -1;}#sk-container-id-2 div.sk-parallel-item {display: flex;flex-direction: column;z-index: 1;position: relative;background-color: white;}#sk-container-id-2 div.sk-parallel-item:first-child::after {align-self: flex-end;width: 50%;}#sk-container-id-2 div.sk-parallel-item:last-child::after {align-self: flex-start;width: 50%;}#sk-container-id-2 div.sk-parallel-item:only-child::after {width: 0;}#sk-container-id-2 div.sk-dashed-wrapped {border: 1px dashed gray;margin: 0 0.4em 0.5em 0.4em;box-sizing: border-box;padding-bottom: 0.4em;background-color: white;}#sk-container-id-2 div.sk-label label {font-family: monospace;font-weight: bold;display: inline-block;line-height: 1.2em;}#sk-container-id-2 div.sk-label-container {text-align: center;}#sk-container-id-2 div.sk-container {/* jupyter's `normalize.less` sets `[hidden] { display: none; }` but bootstrap.min.css set `[hidden] { display: none !important; }` so we also need the `!important` here to be able to override the default hidden behavior on the sphinx rendered scikit-learn.org. See: https://github.com/scikit-learn/scikit-learn/issues/21755 */display: inline-block !important;position: relative;}#sk-container-id-2 div.sk-text-repr-fallback {display: none;}</style><div id=\"sk-container-id-2\" class=\"sk-top-container\"><div class=\"sk-text-repr-fallback\"><pre>KNeighborsClassifier(n_neighbors=3)</pre><b>In a Jupyter environment, please rerun this cell to show the HTML representation or trust the notebook. <br />On GitHub, the HTML representation is unable to render, please try loading this page with nbviewer.org.</b></div><div class=\"sk-container\" hidden><div class=\"sk-item\"><div class=\"sk-estimator sk-toggleable\"><input class=\"sk-toggleable__control sk-hidden--visually\" id=\"sk-estimator-id-2\" type=\"checkbox\" checked><label for=\"sk-estimator-id-2\" class=\"sk-toggleable__label sk-toggleable__label-arrow\">KNeighborsClassifier</label><div class=\"sk-toggleable__content\"><pre>KNeighborsClassifier(n_neighbors=3)</pre></div></div></div></div></div>"
      ],
      "text/plain": [
       "KNeighborsClassifier(n_neighbors=3)"
      ]
     },
     "execution_count": 12,
     "metadata": {},
     "output_type": "execute_result"
    }
   ],
   "source": [
    "knn = KNeighborsClassifier(n_neighbors=3)\n",
    "knn.fit(X_train, y_train)\n",
    "knn\n"
   ]
  },
  {
   "cell_type": "code",
   "execution_count": 13,
   "id": "88d35f3f",
   "metadata": {},
   "outputs": [
    {
     "data": {
      "text/plain": [
       "array([1, 0, 2, 1, 1, 0, 1, 2, 1, 1, 2, 0, 0, 0, 0, 1, 2, 1, 1, 2, 0, 2,\n",
       "       0, 2, 2, 2, 2, 2, 0, 0])"
      ]
     },
     "execution_count": 13,
     "metadata": {},
     "output_type": "execute_result"
    }
   ],
   "source": [
    "y_pred = knn.predict(X_test)\n",
    "y_pred"
   ]
  },
  {
   "cell_type": "code",
   "execution_count": 15,
   "id": "62677b2e",
   "metadata": {},
   "outputs": [
    {
     "name": "stdout",
     "output_type": "stream",
     "text": [
      "Accurac: 1.0\n",
      "Classification Report:\n",
      "              precision    recall  f1-score   support\n",
      "\n",
      "           0       1.00      1.00      1.00        10\n",
      "           1       1.00      1.00      1.00         9\n",
      "           2       1.00      1.00      1.00        11\n",
      "\n",
      "    accuracy                           1.00        30\n",
      "   macro avg       1.00      1.00      1.00        30\n",
      "weighted avg       1.00      1.00      1.00        30\n",
      "\n"
     ]
    },
    {
     "data": {
      "image/png": "[encoded data removed]",
      "text/plain": [
       "<Figure size 640x480 with 2 Axes>"
      ]
     },
     "metadata": {},
     "output_type": "display_data"
    }
   ],
   "source": [
    "print(f'Accuracy: {accuracy_score(y_test, y_pred)}')\n",
    "print('Classification Report:')\n",
    "print(classification_report(y_test, y_pred))\n",
    "\n",
    "conf_matrix = confusion_matrix(y_test, y_pred)\n",
    "sns.heatmap(conf_matrix, annot=True, cmap='Blues', fmt='g', xticklabels=iris.target_names, yticklabels=iris.target_names)\n",
    "plt.xlabel('Predicted')\n",
    "plt.ylabel('Actual')\n",
    "plt.title('Confusion Matrix')\n",
    "plt.show()\n"
   ]
  },
  {
   "cell_type": "code",
   "execution_count": null,
   "id": "27d36891",
   "metadata": {},
   "outputs": [],
   "source": []
  }
 ],
 "metadata": {
  "kernelspec": {
   "display_name": "Python 3 (ipykernel)",
   "language": "python",
   "name": "python3"
  },
  "language_info": {
   "codemirror_mode": {
    "name": "ipython",
    "version": 3
   },
   "file_extension": ".py",
   "mimetype": "text/x-python",
   "name": "python",
   "nbconvert_exporter": "python",
   "pygments_lexer": "ipython3",
   "version": "3.11.5"
  }
 },
 "nbformat": 4,
 "nbformat_minor": 5
}
