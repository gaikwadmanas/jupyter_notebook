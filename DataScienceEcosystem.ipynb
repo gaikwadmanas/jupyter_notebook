{
 "cells": [
  {
   "cell_type": "markdown",
   "id": "09a0cd90-9be2-4476-aa47-31075aba290a",
   "metadata": {},
   "source": [
    "#  Data Science Tools and Ecosystem"
   ]
  },
  {
   "cell_type": "markdown",
   "id": "2262a400-8680-472a-bb46-eae0f12004d6",
   "metadata": {},
   "source": [
    "In this notebook, Data Science Tools and Ecosystem are summarized."
   ]
  },
  {
   "cell_type": "markdown",
   "id": "2f3220f4-1557-4999-8b9c-a6a59b3ff8f5",
   "metadata": {
    "tags": []
   },
   "source": [
    "Some of the popular languages that Data Scientists use are:\n",
    "1. Python\n",
    "2. R\n",
    "3. SQL\n",
    "4. Julia\n",
    "5. MATLAB\n",
    "\n"
   ]
  },
  {
   "cell_type": "markdown",
   "id": "d23c8c64-1272-4d70-abe9-795c4e438801",
   "metadata": {},
   "source": [
    "Some of the commonly used libraries used by Data Scientists include:\n",
    "1. NumPy\n",
    "2. pandas\n",
    "3. scikit-learn\n",
    "4. TensorFlow\n",
    "5. matplotlib"
   ]
  },
  {
   "cell_type": "markdown",
   "id": "c8d48ff5-9034-4abc-a400-faa5090aa926",
   "metadata": {},
   "source": [
    "| Data Science Tools |\n",
    "|--------------------|\n",
    "| Jupyter Notebook   |\n",
    "| RStudio            |\n",
    "| Spyder             |\n"
   ]
  },
  {
   "cell_type": "markdown",
   "id": "be72e87c-c787-4156-a476-2e9c36708ed2",
   "metadata": {
    "tags": []
   },
   "source": [
    "### Below are a few examples of evaluating arithmetic expressions in Python.\n"
   ]
  },
  {
   "cell_type": "code",
   "execution_count": 4,
   "id": "1f8796f3-cc76-48df-b6c6-105067e4bd1e",
   "metadata": {
    "tags": []
   },
   "outputs": [
    {
     "data": {
      "text/plain": [
       "17"
      ]
     },
     "execution_count": 4,
     "metadata": {},
     "output_type": "execute_result"
    }
   ],
   "source": [
    "# This is a simple arithmetic expression to multiply then add integers.\n",
    "result = (3 * 4) + 5\n",
    "result"
   ]
  },
  {
   "cell_type": "code",
   "execution_count": 5,
   "id": "09a1c9ae-610f-4394-b4db-0628f8a44751",
   "metadata": {
    "tags": []
   },
   "outputs": [
    {
     "data": {
      "text/plain": [
       "3.3333333333333335"
      ]
     },
     "execution_count": 5,
     "metadata": {},
     "output_type": "execute_result"
    }
   ],
   "source": [
    "# This will convert 200 minutes to hours by dividing by 60.\n",
    "hours = 200 / 60\n",
    "hours\n"
   ]
  },
  {
   "cell_type": "markdown",
   "id": "47e94eb9-a468-4603-8b4c-644af79cf02c",
   "metadata": {},
   "source": [
    "**Objectives:**\n",
    "\n",
    "- List popular languages for Data Science\n",
    "- Introduce commonly used libraries in data science\n",
    "- Present open source tools for data science development\n",
    "- Provide examples of evaluating arithmetic expressions in Python\n",
    "- Demonstrate simple conversions between units of measurement\n"
   ]
  },
  {
   "cell_type": "markdown",
   "id": "ac7bc62f-0e78-49e8-9033-395f8fbbc146",
   "metadata": {},
   "source": [
    "## Author\n",
    "\n",
    "Manas\n"
   ]
  },
  {
   "cell_type": "code",
   "execution_count": null,
   "id": "d7943c7d-9d8e-49f6-8a95-d2081c6aa37a",
   "metadata": {},
   "outputs": [],
   "source": []
  }
 ],
 "metadata": {
  "kernelspec": {
   "display_name": "Python",
   "language": "python",
   "name": "conda-env-python-py"
  },
  "language_info": {
   "codemirror_mode": {
    "name": "ipython",
    "version": 3
   },
   "file_extension": ".py",
   "mimetype": "text/x-python",
   "name": "python",
   "nbconvert_exporter": "python",
   "pygments_lexer": "ipython3",
   "version": "3.7.12"
  }
 },
 "nbformat": 4,
 "nbformat_minor": 5
}
